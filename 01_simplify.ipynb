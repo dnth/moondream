{
 "cells": [
  {
   "cell_type": "code",
   "execution_count": null,
   "metadata": {},
   "outputs": [],
   "source": [
    "from huggingface_hub import snapshot_download\n",
    "from moondream_model import VisionEncoder, TextModel\n",
    "import torch \n",
    "from PIL import Image\n",
    "import re\n",
    "\n",
    "model_path = snapshot_download(\"vikhyatk/moondream1\")\n",
    "\n",
    "DEVICE = \"cuda\"\n",
    "DTYPE = torch.float16\n",
    "\n",
    "vision_encoder = VisionEncoder(model_path).to(DEVICE, dtype=DTYPE)\n",
    "text_model = TextModel(model_path).to(DEVICE, dtype=DTYPE)\n",
    "\n",
    "print(f\"Using:{DEVICE}\")\n",
    "print(f\"Type: {DTYPE}\")"
   ]
  },
  {
   "cell_type": "code",
   "execution_count": null,
   "metadata": {},
   "outputs": [],
   "source": [
    "def run_inference(image, prompt):\n",
    "    with torch.inference_mode(), torch.cuda.amp.autocast():\n",
    "        image_embeds =vision_encoder(image).to(DEVICE, dtype=DTYPE)\n",
    "        result = text_model.answer_question(image_embeds, prompt)\n",
    "    \n",
    "    if isinstance(result, tuple):\n",
    "        result_text = result[0]\n",
    "    else:\n",
    "        result_text = result\n",
    "\n",
    "    # Convert the result to string if it's not already\n",
    "    if not isinstance(result_text, str):\n",
    "        if torch.is_tensor(result_text):\n",
    "            result_text = result_text.cpu().numpy().tolist()\n",
    "            result_text = ' '.join(map(str, result_text))\n",
    "        else:\n",
    "            result_text = str(result_text)\n",
    "\n",
    "    # Apply regex to clean up the result string\n",
    "    cleaned_result = re.sub(\"<$\", \"\", re.sub(\"END$\", \"\", result_text))\n",
    "    return cleaned_result"
   ]
  },
  {
   "cell_type": "code",
   "execution_count": null,
   "metadata": {},
   "outputs": [],
   "source": [
    "img = Image.open(\"img/output_000017.jpg\")\n",
    "prompt = \"Describe this image.\"\n",
    "result = run_inference(img, prompt)\n",
    "result"
   ]
  },
  {
   "cell_type": "code",
   "execution_count": null,
   "metadata": {},
   "outputs": [],
   "source": []
  }
 ],
 "metadata": {
  "kernelspec": {
   "display_name": "moondream",
   "language": "python",
   "name": "python3"
  },
  "language_info": {
   "codemirror_mode": {
    "name": "ipython",
    "version": 3
   },
   "file_extension": ".py",
   "mimetype": "text/x-python",
   "name": "python",
   "nbconvert_exporter": "python",
   "pygments_lexer": "ipython3",
   "version": "3.10.13"
  }
 },
 "nbformat": 4,
 "nbformat_minor": 2
}
