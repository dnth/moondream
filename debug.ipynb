{
 "cells": [
  {
   "cell_type": "code",
   "execution_count": 1,
   "metadata": {},
   "outputs": [
    {
     "data": {
      "application/vnd.jupyter.widget-view+json": {
       "model_id": "ed70d89748f14d988bdfd120aee933ae",
       "version_major": 2,
       "version_minor": 0
      },
      "text/plain": [
       "Fetching 16 files:   0%|          | 0/16 [00:00<?, ?it/s]"
      ]
     },
     "metadata": {},
     "output_type": "display_data"
    },
    {
     "name": "stderr",
     "output_type": "stream",
     "text": [
      "Special tokens have been added in the vocabulary, make sure the associated word embeddings are fine-tuned or trained.\n"
     ]
    },
    {
     "name": "stdout",
     "output_type": "stream",
     "text": [
      "Using:cuda\n",
      "Type: torch.bfloat16\n"
     ]
    }
   ],
   "source": [
    "import re\n",
    "import hashlib\n",
    "import os\n",
    "import torch\n",
    "from huggingface_hub import snapshot_download\n",
    "from PIL import Image\n",
    "\n",
    "from moondream_model import VisionEncoder, TextModel\n",
    "\n",
    "model_path = snapshot_download(\"vikhyatk/moondream1\")\n",
    "\n",
    "DEVICE = \"cuda\"\n",
    "DTYPE = torch.bfloat16\n",
    "\n",
    "vision_encoder = VisionEncoder(model_path).to(DEVICE, dtype=DTYPE)\n",
    "text_model = TextModel(model_path).to(DEVICE, dtype=DTYPE)\n",
    "\n",
    "print(f\"Using:{DEVICE}\")\n",
    "print(f\"Type: {DTYPE}\")\n",
    "\n",
    "def cached_vision_encoder(image):\n",
    "    image_hash = hashlib.sha256(image.tobytes()).hexdigest()\n",
    "    cache_path = f\"image_encoder_cache/{image_hash}.pt\"\n",
    "    if os.path.exists(cache_path):\n",
    "        return torch.load(cache_path).to(DEVICE, dtype=DTYPE)\n",
    "    else:\n",
    "        image_vec = vision_encoder(image).to(\"cpu\", dtype=torch.float16)\n",
    "        os.makedirs(\"image_encoder_cache\", exist_ok=True)\n",
    "        torch.save(image_vec, cache_path)\n",
    "        return image_vec.to(DEVICE, dtype=DTYPE)\n",
    "\n",
    "def answer_question(image, question):\n",
    "\n",
    "    with torch.inference_mode():\n",
    "        image_embeds = cached_vision_encoder(image)\n",
    "        result = text_model.answer_question(image_embeds, question)\n",
    "\n",
    "    # Check if the result is a tuple and extract the text part\n",
    "    if isinstance(result, tuple):\n",
    "        result_text = result[0]\n",
    "    else:\n",
    "        result_text = result\n",
    "\n",
    "    # Convert the result to string if it's not already\n",
    "    if not isinstance(result_text, str):\n",
    "        if torch.is_tensor(result_text):\n",
    "            result_text = result_text.cpu().numpy().tolist()\n",
    "            result_text = ' '.join(map(str, result_text))\n",
    "        else:\n",
    "            result_text = str(result_text)\n",
    "\n",
    "    # Apply regex to clean up the result string\n",
    "    cleaned_result = re.sub(\"<$\", \"\", re.sub(\"END$\", \"\", result_text))\n",
    "    return cleaned_result\n",
    "\n",
    "\n",
    "\n",
    "def moondream(img, prompt):\n",
    "    result = answer_question(img, prompt)\n",
    "    return result\n"
   ]
  },
  {
   "cell_type": "code",
   "execution_count": 3,
   "metadata": {},
   "outputs": [
    {
     "name": "stdout",
     "output_type": "stream",
     "text": [
      "Generate method took 1.9480829238891602 seconds.\n",
      "The image features a young girl with long blonde hair, wearing a purple dress, standing in a room. She is holding a blow dryer in her hand, possibly getting ready to style her hair. The girl appears to be in a bathroom setting.\n",
      "\n",
      "In the room, there is a chair located to the left side of the girl, and a bottle can be seen placed on a surface nearby. The overall atmosphere seems to be casual and comfortable, as the girl is engaged in her hair care routine.\n"
     ]
    }
   ],
   "source": [
    "# Usage example\n",
    "img = Image.open(\"img/output_000017.jpg\")\n",
    "prompt = \"Describe this image.\"\n",
    "result = moondream(img, prompt)\n",
    "print(result)"
   ]
  },
  {
   "cell_type": "code",
   "execution_count": null,
   "metadata": {},
   "outputs": [],
   "source": []
  },
  {
   "cell_type": "code",
   "execution_count": null,
   "metadata": {},
   "outputs": [],
   "source": []
  }
 ],
 "metadata": {
  "kernelspec": {
   "display_name": "moondream",
   "language": "python",
   "name": "python3"
  },
  "language_info": {
   "codemirror_mode": {
    "name": "ipython",
    "version": 3
   },
   "file_extension": ".py",
   "mimetype": "text/x-python",
   "name": "python",
   "nbconvert_exporter": "python",
   "pygments_lexer": "ipython3",
   "version": "3.10.13"
  }
 },
 "nbformat": 4,
 "nbformat_minor": 2
}
